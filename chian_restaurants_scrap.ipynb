{
 "cells": [
  {
   "cell_type": "code",
   "execution_count": 32,
   "id": "657c4c13",
   "metadata": {},
   "outputs": [],
   "source": [
    "import boto3\n",
    "import json\n",
    "import urllib.parse\n",
    "import urllib.request\n",
    "import pandas as pd"
   ]
  },
  {
   "cell_type": "code",
   "execution_count": 33,
   "id": "3fa3a05a",
   "metadata": {},
   "outputs": [],
   "source": [
    "def get_data(total_num, term='mcdonald'):\n",
    "    num = 0\n",
    "    offset = 0\n",
    "    \n",
    "    while num < total_num:\n",
    "        param = {\"term\": term, \"location\": \"Manhattan\", \"offset\": offset, \"limit\": 50}\n",
    "        param = urllib.parse.urlencode(param)\n",
    "        url = 'https://api.yelp.com/v3/businesses/search'\n",
    "        url = \"?\".join([url, param])\n",
    "        # print(url)\n",
    "        # print(num)\n",
    "        headers = {\"Authorization\": \"\"\n",
    "                                    \"\"}\n",
    "        req = urllib.request.Request(url, headers=headers)\n",
    "        response = urllib.request.urlopen(req)\n",
    "        data = response.read()\n",
    "        data = json.loads(data)\n",
    "        if not data[\"businesses\"]:\n",
    "            break\n",
    "        for item in data[\"businesses\"]:\n",
    "            if item[\"id\"] in restaurant_id:\n",
    "                continue\n",
    "            elif item[\"name\"] != \"McDonald's\":\n",
    "                continue\n",
    "            elif int(item[\"location\"][\"zip_code\"]) < 10000:\n",
    "                continue\n",
    "            else:\n",
    "                restaurant_id.append(item[\"id\"])\n",
    "                names.append(item[\"name\"])\n",
    "                address.append(item[\"location\"][\"address1\"])\n",
    "                num_of_reviews.append(item[\"review_count\"])\n",
    "                rating.append(item[\"rating\"])\n",
    "                zip_code.append(int(item[\"location\"][\"zip_code\"]))\n",
    "                num += 1\n",
    "                if num == total_num:\n",
    "                    break\n",
    "        offset += 50\n",
    "        if offset > 950:\n",
    "            break\n",
    "    print('retrived ',num,'results')\n"
   ]
  },
  {
   "cell_type": "code",
   "execution_count": 34,
   "id": "f2886d40",
   "metadata": {},
   "outputs": [],
   "source": [
    "restaurant_id = []\n",
    "names = []\n",
    "num_of_reviews = []\n",
    "rating = []\n",
    "address = []\n",
    "zip_code = []"
   ]
  },
  {
   "cell_type": "code",
   "execution_count": 35,
   "id": "538bbb2a",
   "metadata": {
    "scrolled": false
   },
   "outputs": [
    {
     "name": "stdout",
     "output_type": "stream",
     "text": [
      "retrived  15 results\n"
     ]
    }
   ],
   "source": [
    "get_data(15)"
   ]
  },
  {
   "cell_type": "code",
   "execution_count": 36,
   "id": "52ff38b8",
   "metadata": {
    "scrolled": true
   },
   "outputs": [],
   "source": [
    "df = pd.DataFrame({\"restaurant_id\":restaurant_id,\"names\":names,\n",
    "                   \"num_of_reviews\":num_of_reviews,\"rating\":rating,\"zip_code\":zip_code,\"address\":address})"
   ]
  },
  {
   "cell_type": "code",
   "execution_count": 37,
   "id": "c82df753",
   "metadata": {
    "scrolled": false
   },
   "outputs": [
    {
     "data": {
      "text/html": [
       "<div>\n",
       "<style scoped>\n",
       "    .dataframe tbody tr th:only-of-type {\n",
       "        vertical-align: middle;\n",
       "    }\n",
       "\n",
       "    .dataframe tbody tr th {\n",
       "        vertical-align: top;\n",
       "    }\n",
       "\n",
       "    .dataframe thead th {\n",
       "        text-align: right;\n",
       "    }\n",
       "</style>\n",
       "<table border=\"1\" class=\"dataframe\">\n",
       "  <thead>\n",
       "    <tr style=\"text-align: right;\">\n",
       "      <th></th>\n",
       "      <th>restaurant_id</th>\n",
       "      <th>names</th>\n",
       "      <th>num_of_reviews</th>\n",
       "      <th>rating</th>\n",
       "      <th>zip_code</th>\n",
       "      <th>address</th>\n",
       "    </tr>\n",
       "  </thead>\n",
       "  <tbody>\n",
       "    <tr>\n",
       "      <th>0</th>\n",
       "      <td>aF05dAZpGr8eBiI2IkAFaA</td>\n",
       "      <td>McDonald's</td>\n",
       "      <td>65</td>\n",
       "      <td>2.0</td>\n",
       "      <td>10022</td>\n",
       "      <td>824 3rd Avenue 50th St</td>\n",
       "    </tr>\n",
       "    <tr>\n",
       "      <th>1</th>\n",
       "      <td>Fnmdad7dvjqwrEmQby12CQ</td>\n",
       "      <td>McDonald's</td>\n",
       "      <td>50</td>\n",
       "      <td>2.5</td>\n",
       "      <td>10022</td>\n",
       "      <td>966 3rd Ave</td>\n",
       "    </tr>\n",
       "    <tr>\n",
       "      <th>2</th>\n",
       "      <td>RvSqiP7Sj0kebrllKdDo_Q</td>\n",
       "      <td>McDonald's</td>\n",
       "      <td>64</td>\n",
       "      <td>2.0</td>\n",
       "      <td>10023</td>\n",
       "      <td>2049 Broadway</td>\n",
       "    </tr>\n",
       "    <tr>\n",
       "      <th>3</th>\n",
       "      <td>VqoXgaS-vTfCu-yrlYol1g</td>\n",
       "      <td>McDonald's</td>\n",
       "      <td>111</td>\n",
       "      <td>1.5</td>\n",
       "      <td>10021</td>\n",
       "      <td>1286 1st Ave</td>\n",
       "    </tr>\n",
       "    <tr>\n",
       "      <th>4</th>\n",
       "      <td>yaDp_eIhkgfT3SIn0tRsRw</td>\n",
       "      <td>McDonald's</td>\n",
       "      <td>75</td>\n",
       "      <td>2.5</td>\n",
       "      <td>10019</td>\n",
       "      <td>946 8th Ave</td>\n",
       "    </tr>\n",
       "    <tr>\n",
       "      <th>5</th>\n",
       "      <td>f0VJirNbBXsS8Ihvv-Rs1g</td>\n",
       "      <td>McDonald's</td>\n",
       "      <td>75</td>\n",
       "      <td>2.5</td>\n",
       "      <td>10019</td>\n",
       "      <td>1651 Broadway</td>\n",
       "    </tr>\n",
       "    <tr>\n",
       "      <th>6</th>\n",
       "      <td>oGq_6DQ1AoQrAYfFSDV_-Q</td>\n",
       "      <td>McDonald's</td>\n",
       "      <td>36</td>\n",
       "      <td>2.5</td>\n",
       "      <td>10016</td>\n",
       "      <td>480 3rd Ave</td>\n",
       "    </tr>\n",
       "    <tr>\n",
       "      <th>7</th>\n",
       "      <td>aPUz7avK_yxMsAkhKRwJZA</td>\n",
       "      <td>McDonald's</td>\n",
       "      <td>30</td>\n",
       "      <td>2.0</td>\n",
       "      <td>10017</td>\n",
       "      <td>14 E 47th St</td>\n",
       "    </tr>\n",
       "    <tr>\n",
       "      <th>8</th>\n",
       "      <td>OBTZAyTcj5xptQBl2mJTSA</td>\n",
       "      <td>McDonald's</td>\n",
       "      <td>57</td>\n",
       "      <td>2.0</td>\n",
       "      <td>10017</td>\n",
       "      <td>18 E 42nd St</td>\n",
       "    </tr>\n",
       "    <tr>\n",
       "      <th>9</th>\n",
       "      <td>nqcJCwOfkttQbxKBFGMHvQ</td>\n",
       "      <td>McDonald's</td>\n",
       "      <td>78</td>\n",
       "      <td>2.0</td>\n",
       "      <td>10028</td>\n",
       "      <td>1499 3rd Ave</td>\n",
       "    </tr>\n",
       "    <tr>\n",
       "      <th>10</th>\n",
       "      <td>aUGq0Cy4yNkBlwzDP2OTbQ</td>\n",
       "      <td>McDonald's</td>\n",
       "      <td>71</td>\n",
       "      <td>2.0</td>\n",
       "      <td>10001</td>\n",
       "      <td>490 8th Ave</td>\n",
       "    </tr>\n",
       "    <tr>\n",
       "      <th>11</th>\n",
       "      <td>yABI6gRdp0I_AScopX69Bg</td>\n",
       "      <td>McDonald's</td>\n",
       "      <td>40</td>\n",
       "      <td>2.0</td>\n",
       "      <td>10025</td>\n",
       "      <td>2549 Broadway</td>\n",
       "    </tr>\n",
       "    <tr>\n",
       "      <th>12</th>\n",
       "      <td>VpISwPV93Zw1c4vkoRca7w</td>\n",
       "      <td>McDonald's</td>\n",
       "      <td>46</td>\n",
       "      <td>2.0</td>\n",
       "      <td>10001</td>\n",
       "      <td>335 8th Ave</td>\n",
       "    </tr>\n",
       "    <tr>\n",
       "      <th>13</th>\n",
       "      <td>mgEozttiDRnWT6AMilTPBw</td>\n",
       "      <td>McDonald's</td>\n",
       "      <td>55</td>\n",
       "      <td>2.0</td>\n",
       "      <td>11106</td>\n",
       "      <td>32-55 31st St</td>\n",
       "    </tr>\n",
       "    <tr>\n",
       "      <th>14</th>\n",
       "      <td>v2VqbGC1lrG2lFaC8rje4g</td>\n",
       "      <td>McDonald's</td>\n",
       "      <td>59</td>\n",
       "      <td>2.0</td>\n",
       "      <td>10016</td>\n",
       "      <td>401 Park Ave S</td>\n",
       "    </tr>\n",
       "  </tbody>\n",
       "</table>\n",
       "</div>"
      ],
      "text/plain": [
       "             restaurant_id       names  num_of_reviews  rating  zip_code  \\\n",
       "0   aF05dAZpGr8eBiI2IkAFaA  McDonald's              65     2.0     10022   \n",
       "1   Fnmdad7dvjqwrEmQby12CQ  McDonald's              50     2.5     10022   \n",
       "2   RvSqiP7Sj0kebrllKdDo_Q  McDonald's              64     2.0     10023   \n",
       "3   VqoXgaS-vTfCu-yrlYol1g  McDonald's             111     1.5     10021   \n",
       "4   yaDp_eIhkgfT3SIn0tRsRw  McDonald's              75     2.5     10019   \n",
       "5   f0VJirNbBXsS8Ihvv-Rs1g  McDonald's              75     2.5     10019   \n",
       "6   oGq_6DQ1AoQrAYfFSDV_-Q  McDonald's              36     2.5     10016   \n",
       "7   aPUz7avK_yxMsAkhKRwJZA  McDonald's              30     2.0     10017   \n",
       "8   OBTZAyTcj5xptQBl2mJTSA  McDonald's              57     2.0     10017   \n",
       "9   nqcJCwOfkttQbxKBFGMHvQ  McDonald's              78     2.0     10028   \n",
       "10  aUGq0Cy4yNkBlwzDP2OTbQ  McDonald's              71     2.0     10001   \n",
       "11  yABI6gRdp0I_AScopX69Bg  McDonald's              40     2.0     10025   \n",
       "12  VpISwPV93Zw1c4vkoRca7w  McDonald's              46     2.0     10001   \n",
       "13  mgEozttiDRnWT6AMilTPBw  McDonald's              55     2.0     11106   \n",
       "14  v2VqbGC1lrG2lFaC8rje4g  McDonald's              59     2.0     10016   \n",
       "\n",
       "                   address  \n",
       "0   824 3rd Avenue 50th St  \n",
       "1              966 3rd Ave  \n",
       "2            2049 Broadway  \n",
       "3             1286 1st Ave  \n",
       "4              946 8th Ave  \n",
       "5            1651 Broadway  \n",
       "6              480 3rd Ave  \n",
       "7             14 E 47th St  \n",
       "8             18 E 42nd St  \n",
       "9             1499 3rd Ave  \n",
       "10             490 8th Ave  \n",
       "11           2549 Broadway  \n",
       "12             335 8th Ave  \n",
       "13           32-55 31st St  \n",
       "14          401 Park Ave S  "
      ]
     },
     "execution_count": 37,
     "metadata": {},
     "output_type": "execute_result"
    }
   ],
   "source": [
    "df"
   ]
  },
  {
   "cell_type": "code",
   "execution_count": 38,
   "id": "d737aec5",
   "metadata": {},
   "outputs": [
    {
     "name": "stdout",
     "output_type": "stream",
     "text": [
      "<class 'list'>\n"
     ]
    }
   ],
   "source": [
    "print(type(zip_code))"
   ]
  },
  {
   "cell_type": "code",
   "execution_count": 39,
   "id": "79aadc54",
   "metadata": {},
   "outputs": [],
   "source": [
    "import psycopg2"
   ]
  },
  {
   "cell_type": "code",
   "execution_count": 40,
   "id": "1670a1e3",
   "metadata": {},
   "outputs": [],
   "source": [
    "conn = psycopg2.connect(database='proj1part2',user='',password='',host='')\n",
    "cur = conn.cursor()"
   ]
  },
  {
   "cell_type": "code",
   "execution_count": 41,
   "id": "d0e69ede",
   "metadata": {},
   "outputs": [],
   "source": [
    "for i in range(len(restaurant_id)):\n",
    "    cur.execute(\"\"\"INSERT INTO \"Restaurants\" VALUES(%s,%s,%s,%s,%s,%s);\"\"\",\\\n",
    "                (restaurant_id[i],zip_code[i],rating[i],names[i],num_of_reviews[i],address[i]))"
   ]
  },
  {
   "cell_type": "code",
   "execution_count": 30,
   "id": "ad27c971",
   "metadata": {},
   "outputs": [],
   "source": [
    "# cur.execute('DELETE FROM \"Restaurants\";')"
   ]
  },
  {
   "cell_type": "code",
   "execution_count": 42,
   "id": "386e87cd",
   "metadata": {},
   "outputs": [],
   "source": [
    "conn.commit()"
   ]
  },
  {
   "cell_type": "code",
   "execution_count": 125,
   "id": "53bce8a9",
   "metadata": {},
   "outputs": [],
   "source": [
    "a = cur.execute('SELECT * FROM \"restaurants\";')"
   ]
  },
  {
   "cell_type": "code",
   "execution_count": null,
   "id": "3aac52f6",
   "metadata": {},
   "outputs": [],
   "source": []
  }
 ],
 "metadata": {
  "kernelspec": {
   "display_name": "Python 3 (ipykernel)",
   "language": "python",
   "name": "python3"
  },
  "language_info": {
   "codemirror_mode": {
    "name": "ipython",
    "version": 3
   },
   "file_extension": ".py",
   "mimetype": "text/x-python",
   "name": "python",
   "nbconvert_exporter": "python",
   "pygments_lexer": "ipython3",
   "version": "3.9.7"
  }
 },
 "nbformat": 4,
 "nbformat_minor": 5
}
